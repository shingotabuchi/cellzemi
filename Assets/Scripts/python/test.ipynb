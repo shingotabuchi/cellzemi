{
 "cells": [
  {
   "cell_type": "code",
   "execution_count": 4,
   "metadata": {},
   "outputs": [],
   "source": [
    "import matplotlib as mpl\n",
    "import random\n",
    "import matplotlib.pyplot as plt\n",
    "# change the following to %matplotlib notebook for interactive plotting\n",
    "%matplotlib inline\n",
    "# Optionally, tweak styles.\n",
    "mpl.rc('figure',  figsize=(5, 5))\n",
    "mpl.rc('image', cmap='gray')\n",
    "import numpy as np"
   ]
  },
  {
   "cell_type": "code",
   "execution_count": 21,
   "metadata": {},
   "outputs": [
    {
     "data": {
      "text/plain": [
       "(array([5.991e+03, 2.438e+03, 1.002e+03, 3.820e+02, 1.180e+02, 5.400e+01,\n",
       "        1.000e+01, 3.000e+00, 1.000e+00, 1.000e+00]),\n",
       " array([7.20429492e-06, 4.19491109e-01, 8.38975013e-01, 1.25845892e+00,\n",
       "        1.67794282e+00, 2.09742673e+00, 2.51691063e+00, 2.93639453e+00,\n",
       "        3.35587844e+00, 3.77536234e+00, 4.19484625e+00]),\n",
       " <BarContainer object of 10 artists>)"
      ]
     },
     "execution_count": 21,
     "metadata": {},
     "output_type": "execute_result"
    },
    {
     "data": {
      "image/png": "[encoded data removed]",
      "text/plain": [
       "<Figure size 360x360 with 1 Axes>"
      ]
     },
     "metadata": {
      "needs_background": "light"
     },
     "output_type": "display_data"
    }
   ],
   "source": [
    "x1 = 10\n",
    "x0 = 1\n",
    "n = 20\n",
    "xs = []\n",
    "for i in range(10000):\n",
    "    y = random.random()\n",
    "    x = x1 - ((x1**(n+1) - x0**(n+1))*y + x0**(n+1))**(1/(n+1))\n",
    "    xs.append(x)\n",
    "plt.hist(xs)"
   ]
  }
 ],
 "metadata": {
  "kernelspec": {
   "display_name": "Python 3",
   "language": "python",
   "name": "python3"
  },
  "language_info": {
   "codemirror_mode": {
    "name": "ipython",
    "version": 3
   },
   "file_extension": ".py",
   "mimetype": "text/x-python",
   "name": "python",
   "nbconvert_exporter": "python",
   "pygments_lexer": "ipython3",
   "version": "3.9.7"
  }
 },
 "nbformat": 4,
 "nbformat_minor": 2
}
